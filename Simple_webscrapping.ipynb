{
 "cells": [
  {
   "cell_type": "code",
   "execution_count": 127,
   "metadata": {},
   "outputs": [],
   "source": [
    "from bs4 import BeautifulSoup as soup\n",
    "import pandas as pd\n",
    "from urllib.request import urlopen as uop\n",
    "file="
   ]
  },
  {
   "cell_type": "code",
   "execution_count": 56,
   "metadata": {},
   "outputs": [],
   "source": [
    "my_url=\"https://www.flipkart.com/search?q=apple%20iphone&otracker=search&otracker1=search&marketplace=FLIPKART&as-show=on&as=off\"\n",
    "uc=uop(my_url)\n",
    "hpage=uc.read()\n",
    "uc.close()\n",
    "page_soup=soup(hpage,\"html.parser\")"
   ]
  },
  {
   "cell_type": "code",
   "execution_count": 141,
   "metadata": {},
   "outputs": [
    {
     "name": "stdout",
     "output_type": "stream",
     "text": [
      "24\n"
     ]
    }
   ],
   "source": [
    "containers=page_soup.findAll(\"div\",{\"class\":\"_3O0U0u\"})#It will Find All the Class Having Class mentioned\n",
    "print(len(containers))\n",
    "#print(containers)"
   ]
  },
  {
   "cell_type": "code",
   "execution_count": 142,
   "metadata": {},
   "outputs": [],
   "source": [
    "#print(containers[0])"
   ]
  },
  {
   "cell_type": "code",
   "execution_count": 143,
   "metadata": {},
   "outputs": [],
   "source": [
    "#print(soup.prettify(container[0]))#this Function will convert html into structured manner "
   ]
  },
  {
   "cell_type": "code",
   "execution_count": 59,
   "metadata": {},
   "outputs": [],
   "source": [
    "container=containers[0]\n"
   ]
  },
  {
   "cell_type": "code",
   "execution_count": 60,
   "metadata": {},
   "outputs": [
    {
     "name": "stdout",
     "output_type": "stream",
     "text": [
      "Apple iPhone SE (White, 64 GB)\n"
     ]
    }
   ],
   "source": [
    "print(container.div.img[\"alt\"])"
   ]
  },
  {
   "cell_type": "code",
   "execution_count": 72,
   "metadata": {},
   "outputs": [],
   "source": [
    "rating=page_soup.findAll(\"div\",{\"class\":\"niH0FQ\"})\n"
   ]
  },
  {
   "cell_type": "code",
   "execution_count": 73,
   "metadata": {},
   "outputs": [
    {
     "name": "stdout",
     "output_type": "stream",
     "text": [
      "4.522,988 Ratings & 2,238 Reviews\n"
     ]
    }
   ],
   "source": [
    "print(rating[0].text)"
   ]
  },
  {
   "cell_type": "code",
   "execution_count": 69,
   "metadata": {},
   "outputs": [],
   "source": [
    "Discount_price=page_soup.findAll(\"div\",{\"class\":\"col col-5-12 _2o7WAb\"})"
   ]
  },
  {
   "cell_type": "code",
   "execution_count": 71,
   "metadata": {},
   "outputs": [
    {
     "name": "stdout",
     "output_type": "stream",
     "text": [
      "₹35,999₹42,50015% offNo Cost EMIUpto ₹17,500 Off on Exchange\n"
     ]
    }
   ],
   "source": [
    "print(Discount_price[0].text)"
   ]
  },
  {
   "cell_type": "code",
   "execution_count": 177,
   "metadata": {
    "scrolled": true
   },
   "outputs": [],
   "source": [
    "\n",
    "records=[]\n",
    "for container in containers:\n",
    "    name=container.div.img[\"alt\"]\n",
    "   # print(name)\n",
    "    rating1=container.findAll(\"div\",{\"class\":\"niH0FQ\"})\n",
    "    rate=rating1[0].text.strip()\n",
    "   # print(rate)\n",
    "    price1=container.findAll(\"div\",{\"class\":\"col col-5-12 _2o7WAb\"})\n",
    "    #price2=price1[0].text.strip()\n",
    "   # trim_price=''.join(price2.strip(','))\n",
    "    #rm_ruppee=trim_price.split(\"₹\")\n",
    "    rm_ruppee=price1[0].text.split(\"₹\")\n",
    "    orig_price=rm_ruppee[2].split(\" \")\n",
    "    op=orig_price[0].replace(\"%\",\"\")\n",
    "       # add_rs_price=rm_ruppee[1]\n",
    "   # benifit=int(op)-int(add_rs_price)\n",
    "    #print(add_rs_price)\n",
    "   # Final_op=name+\",\"+add_rs_price\n",
    "    #print(Final_op)\n",
    "   # records.append((name,add_rs_price,op))"
   ]
  },
  {
   "cell_type": "code",
   "execution_count": 152,
   "metadata": {},
   "outputs": [
    {
     "name": "stdout",
     "output_type": "stream",
     "text": [
      "[('Apple iPhone SE (White, 64 GB)', '35,999', '42,50015'), ('Apple iPhone SE (Black, 64 GB)', '35,999', '42,50015'), ('Apple iPhone XR (White, 64 GB)', '44,999', '52,50014'), ('Apple iPhone XR (Black, 64 GB)', '44,999', '52,50014'), ('Apple iPhone XR (Black, 128 GB)', '49,999', '57,80013'), ('Apple iPhone XR ((PRODUCT)RED, 64 GB)', '44,999', '52,50014'), ('Apple iPhone SE (White, 128 GB)', '41,999', '47,80012'), ('Apple iPhone SE (Red, 128 GB)', '41,999', '47,80012'), ('Apple iPhone XR (Blue, 64 GB)', '44,999', '52,50014'), ('Apple iPhone 7 (Black, 32 GB)', '29,499', '31,5006'), ('Apple iPhone XR ((PRODUCT)RED, 128 GB)', '49,999', '57,80013'), ('Apple iPhone XR (Blue, 128 GB)', '49,999', '57,80013'), ('Apple iPhone XR (Coral, 64 GB)', '44,999', '52,50014'), ('Apple iPhone XR (Coral, 128 GB)', '49,999', '57,80013'), ('Apple iPhone 7 Plus (Black, 32 GB)', '36,999', '37,9002'), ('Apple iPhone 11 (Green, 128 GB)', '72,990', '73,600No'), ('Apple iPhone 7 (Silver, 32 GB)', '29,499', '31,5006'), ('Apple iPhone 11 (White, 64 GB)', '66,990', '68,3001'), ('Apple iPhone 11 (Red, 64 GB)', '66,990', '68,3001'), ('Apple iPhone 6 (Gold, 32 GB)', '29,599', '29,9991'), ('Apple iPhone 11 (Black, 64 GB)', '66,990', '68,3001'), ('Apple iPhone 11 (Purple, 64 GB)', '66,990', '68,3001'), ('Apple iPhone XR (Yellow, 64 GB)', '44,999', '52,50014'), ('Apple iPhone 11 (White, 128 GB)', '72,990', '73,600No')]\n"
     ]
    }
   ],
   "source": [
    "print(records)"
   ]
  },
  {
   "cell_type": "code",
   "execution_count": 158,
   "metadata": {},
   "outputs": [],
   "source": [
    "df=pd.DataFrame(records,columns=['Name','Discount Price','orignal Price'])"
   ]
  },
  {
   "cell_type": "code",
   "execution_count": 159,
   "metadata": {},
   "outputs": [
    {
     "data": {
      "text/html": [
       "<div>\n",
       "<style scoped>\n",
       "    .dataframe tbody tr th:only-of-type {\n",
       "        vertical-align: middle;\n",
       "    }\n",
       "\n",
       "    .dataframe tbody tr th {\n",
       "        vertical-align: top;\n",
       "    }\n",
       "\n",
       "    .dataframe thead th {\n",
       "        text-align: right;\n",
       "    }\n",
       "</style>\n",
       "<table border=\"1\" class=\"dataframe\">\n",
       "  <thead>\n",
       "    <tr style=\"text-align: right;\">\n",
       "      <th></th>\n",
       "      <th>Name</th>\n",
       "      <th>Discount Price</th>\n",
       "      <th>orignal Price</th>\n",
       "    </tr>\n",
       "  </thead>\n",
       "  <tbody>\n",
       "    <tr>\n",
       "      <th>0</th>\n",
       "      <td>Apple iPhone SE (White, 64 GB)</td>\n",
       "      <td>35,999</td>\n",
       "      <td>42,50015</td>\n",
       "    </tr>\n",
       "    <tr>\n",
       "      <th>1</th>\n",
       "      <td>Apple iPhone SE (Black, 64 GB)</td>\n",
       "      <td>35,999</td>\n",
       "      <td>42,50015</td>\n",
       "    </tr>\n",
       "    <tr>\n",
       "      <th>2</th>\n",
       "      <td>Apple iPhone XR (White, 64 GB)</td>\n",
       "      <td>44,999</td>\n",
       "      <td>52,50014</td>\n",
       "    </tr>\n",
       "    <tr>\n",
       "      <th>3</th>\n",
       "      <td>Apple iPhone XR (Black, 64 GB)</td>\n",
       "      <td>44,999</td>\n",
       "      <td>52,50014</td>\n",
       "    </tr>\n",
       "    <tr>\n",
       "      <th>4</th>\n",
       "      <td>Apple iPhone XR (Black, 128 GB)</td>\n",
       "      <td>49,999</td>\n",
       "      <td>57,80013</td>\n",
       "    </tr>\n",
       "  </tbody>\n",
       "</table>\n",
       "</div>"
      ],
      "text/plain": [
       "                              Name Discount Price orignal Price\n",
       "0   Apple iPhone SE (White, 64 GB)         35,999      42,50015\n",
       "1   Apple iPhone SE (Black, 64 GB)         35,999      42,50015\n",
       "2   Apple iPhone XR (White, 64 GB)         44,999      52,50014\n",
       "3   Apple iPhone XR (Black, 64 GB)         44,999      52,50014\n",
       "4  Apple iPhone XR (Black, 128 GB)         49,999      57,80013"
      ]
     },
     "execution_count": 159,
     "metadata": {},
     "output_type": "execute_result"
    }
   ],
   "source": [
    "df.head()"
   ]
  },
  {
   "cell_type": "code",
   "execution_count": 160,
   "metadata": {},
   "outputs": [],
   "source": [
    "df.to_csv(\"Iphone.csv\",index=False)"
   ]
  },
  {
   "cell_type": "code",
   "execution_count": 161,
   "metadata": {},
   "outputs": [],
   "source": [
    "f=pd.read_csv(\"Iphone.csv\")"
   ]
  },
  {
   "cell_type": "code",
   "execution_count": 162,
   "metadata": {},
   "outputs": [
    {
     "name": "stdout",
     "output_type": "stream",
     "text": [
      "                                      Name Discount Price orignal Price\n",
      "0           Apple iPhone SE (White, 64 GB)         35,999      42,50015\n",
      "1           Apple iPhone SE (Black, 64 GB)         35,999      42,50015\n",
      "2           Apple iPhone XR (White, 64 GB)         44,999      52,50014\n",
      "3           Apple iPhone XR (Black, 64 GB)         44,999      52,50014\n",
      "4          Apple iPhone XR (Black, 128 GB)         49,999      57,80013\n",
      "5    Apple iPhone XR ((PRODUCT)RED, 64 GB)         44,999      52,50014\n",
      "6          Apple iPhone SE (White, 128 GB)         41,999      47,80012\n",
      "7            Apple iPhone SE (Red, 128 GB)         41,999      47,80012\n",
      "8            Apple iPhone XR (Blue, 64 GB)         44,999      52,50014\n",
      "9            Apple iPhone 7 (Black, 32 GB)         29,499       31,5006\n",
      "10  Apple iPhone XR ((PRODUCT)RED, 128 GB)         49,999      57,80013\n",
      "11          Apple iPhone XR (Blue, 128 GB)         49,999      57,80013\n",
      "12          Apple iPhone XR (Coral, 64 GB)         44,999      52,50014\n",
      "13         Apple iPhone XR (Coral, 128 GB)         49,999      57,80013\n",
      "14      Apple iPhone 7 Plus (Black, 32 GB)         36,999       37,9002\n",
      "15         Apple iPhone 11 (Green, 128 GB)         72,990      73,600No\n",
      "16          Apple iPhone 7 (Silver, 32 GB)         29,499       31,5006\n",
      "17          Apple iPhone 11 (White, 64 GB)         66,990       68,3001\n",
      "18            Apple iPhone 11 (Red, 64 GB)         66,990       68,3001\n",
      "19            Apple iPhone 6 (Gold, 32 GB)         29,599       29,9991\n",
      "20          Apple iPhone 11 (Black, 64 GB)         66,990       68,3001\n",
      "21         Apple iPhone 11 (Purple, 64 GB)         66,990       68,3001\n",
      "22         Apple iPhone XR (Yellow, 64 GB)         44,999      52,50014\n",
      "23         Apple iPhone 11 (White, 128 GB)         72,990      73,600No\n"
     ]
    }
   ],
   "source": [
    "print(f)"
   ]
  },
  {
   "cell_type": "code",
   "execution_count": null,
   "metadata": {},
   "outputs": [],
   "source": []
  }
 ],
 "metadata": {
  "kernelspec": {
   "display_name": "Python 3",
   "language": "python",
   "name": "python3"
  },
  "language_info": {
   "codemirror_mode": {
    "name": "ipython",
    "version": 3
   },
   "file_extension": ".py",
   "mimetype": "text/x-python",
   "name": "python",
   "nbconvert_exporter": "python",
   "pygments_lexer": "ipython3",
   "version": "3.7.1"
  }
 },
 "nbformat": 4,
 "nbformat_minor": 2
}
